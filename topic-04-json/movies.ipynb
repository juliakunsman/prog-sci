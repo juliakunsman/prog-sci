{
 "cells": [
  {
   "cell_type": "code",
   "execution_count": 1,
   "metadata": {},
   "outputs": [],
   "source": [
    "import json"
   ]
  },
  {
   "cell_type": "code",
   "execution_count": null,
   "metadata": {},
   "outputs": [],
   "source": [
    "with open(\"movies.json\",\"r\") as f:\n",
    "    movies = json.load(f)\n",
    "len(movies), movies[0]"
   ]
  },
  {
   "cell_type": "code",
   "execution_count": null,
   "metadata": {},
   "outputs": [],
   "source": [
    "type(movies[0])\n"
   ]
  },
  {
   "cell_type": "code",
   "execution_count": null,
   "metadata": {},
   "outputs": [],
   "source": [
    "movies[3][\"title\"]"
   ]
  },
  {
   "cell_type": "code",
   "execution_count": null,
   "metadata": {},
   "outputs": [],
   "source": [
    "sum([1 for m in movies if m[\"year\"] == 1977])"
   ]
  },
  {
   "cell_type": "code",
   "execution_count": null,
   "metadata": {},
   "outputs": [],
   "source": [
    "sum([1 for m in movies if \"Silent\" in m[\"genres\"]])"
   ]
  },
  {
   "cell_type": "code",
   "execution_count": null,
   "metadata": {},
   "outputs": [],
   "source": [
    "silent_movies = [m for m in movies if \"Silent\" in m[\"genres\"]]\n",
    "len(silent_movies)"
   ]
  },
  {
   "cell_type": "code",
   "execution_count": null,
   "metadata": {},
   "outputs": [],
   "source": [
    "silent_movie_years = [m[\"year\"] for m in silent_movies]\n",
    "first_year = min(silent_movie_years)\n",
    "last_year = max(silent_movie_years)\n",
    "first_year, last_year"
   ]
  },
  {
   "cell_type": "code",
   "execution_count": null,
   "metadata": {},
   "outputs": [],
   "source": [
    "for year in range(first_year, last_year + 1):\n",
    "    n_silent_movies = sum([1 for m in silent_movies if m[\"year\"] == year])\n",
    "    # n_silent_movies = sum([1 for y in silent_movie_years if y == year])\n",
    "    # n_silent_movies = len([y for y in silent_movie_years if y == year])\n",
    "    print(year, n_silent_movies)"
   ]
  },
  {
   "cell_type": "code",
   "execution_count": null,
   "metadata": {},
   "outputs": [],
   "source": [
    "silent_movie_actors = set()\n",
    "for movie in silent_movies:\n",
    "    for actor in movie[\"cast\"]:\n",
    "        silent_movie_actors.add(actor)\n",
    "len(silent_movie_actors)"
   ]
  }
 ],
 "metadata": {
  "language_info": {
   "name": "python"
  }
 },
 "nbformat": 4,
 "nbformat_minor": 2
}
