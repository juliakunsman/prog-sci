{
 "cells": [
  {
   "cell_type": "code",
   "execution_count": 24,
   "metadata": {},
   "outputs": [
    {
     "name": "stdout",
     "output_type": "stream",
     "text": [
      "done.\n"
     ]
    }
   ],
   "source": [
    "def upper(m, t):\n",
    "    if len(t) == 0:\n",
    "        return []\n",
    "    if t[0] > m:\n",
    "        return(t[0:1] + upper(m, t[1:]))\n",
    "    else:\n",
    "        return upper(m, t[1:])\n",
    "\n",
    "assert upper(3,[]) == []\n",
    "assert upper(3,[1]) == []\n",
    "assert upper(3,[4]) == [4]\n",
    "assert upper(3,[1,2,3,4,5]) == [4,5]\n",
    "assert upper(3,[5,2,3,4,1]) == [5,4]\n",
    "assert upper(3,[5,5,2,3,4,1]) == [5,5,4]\n",
    "\n",
    "print(\"done.\")"
   ]
  },
  {
   "cell_type": "code",
   "execution_count": 25,
   "metadata": {},
   "outputs": [
    {
     "name": "stdout",
     "output_type": "stream",
     "text": [
      "done.\n"
     ]
    }
   ],
   "source": [
    "def lower(m, t):\n",
    "    if len(t) == 0:\n",
    "        return []\n",
    "    if t[0] < m:\n",
    "        return(t[0:1] + lower(m, t[1:]))\n",
    "    else:\n",
    "        return lower(m, t[1:])\n",
    "\n",
    "assert lower(3,[]) == []\n",
    "assert lower(3,[1]) == [1]\n",
    "assert lower(3,[4]) == []\n",
    "assert lower(3,[1,2,3,4,5]) == [1,2]\n",
    "assert lower(3,[5,2,3,4,1]) == [2,1]\n",
    "assert lower(3,[5,2,2,3,4,1]) == [2,2,1]\n",
    "\n",
    "print(\"done.\")"
   ]
  },
  {
   "cell_type": "code",
   "execution_count": 26,
   "metadata": {},
   "outputs": [
    {
     "data": {
      "text/plain": [
       "[1, 2, 3, 4, 5, 6, 7, 8]"
      ]
     },
     "execution_count": 26,
     "metadata": {},
     "output_type": "execute_result"
    }
   ],
   "source": [
    "\n",
    "def sort(t):\n",
    "    assert type(t) is list\n",
    "    if len(t) <= 1:\n",
    "        return t\n",
    "    l = lower(t[0],t[1:])\n",
    "    u = upper(t[0],t[1:])\n",
    "    return sort(l) + [t[0]] + sort(u) \n",
    "    \n",
    "sort([4,1,6,8,3,7,3,2,5])"
   ]
  }
 ],
 "metadata": {
  "language_info": {
   "name": "python"
  }
 },
 "nbformat": 4,
 "nbformat_minor": 2
}
