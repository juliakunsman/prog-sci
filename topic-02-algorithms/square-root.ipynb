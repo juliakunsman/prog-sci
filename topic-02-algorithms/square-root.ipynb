{
 "cells": [
  {
   "cell_type": "code",
   "execution_count": 4,
   "metadata": {},
   "outputs": [],
   "source": [
    "def guess_square_root(n,lower,upper):\n",
    "    # print(f\"guessing root of {n} between {lower} and {upper}\")\n",
    "    guess_root = (lower + upper)/2.0\n",
    "    guess_result = guess_root * guess_root\n",
    "    error = abs((guess_result - n)/n) \n",
    "    if error < 0.00001:\n",
    "        # print(\"returning \",guess_root)\n",
    "        return guess_root\n",
    "    if guess_result < n:\n",
    "        return guess_square_root(n,(lower + upper)/2.0,upper) \n",
    "    else: #guess_result > n:\n",
    "        return guess_square_root(n,lower,(lower + upper)/2.0) \n",
    "\n",
    "\n",
    "\n",
    "def square_root(n):\n",
    "    assert n >= 0\n",
    "    assert n >= 1.0\n",
    "    return guess_square_root(n,0,n)\n",
    "\n",
    "#root = square_root(0.5)\n",
    "#(root, root*root)"
   ]
  },
  {
   "cell_type": "code",
   "execution_count": 5,
   "metadata": {},
   "outputs": [
    {
     "name": "stdout",
     "output_type": "stream",
     "text": [
      "Working on square root of 1\n",
      "Working on square root of 2\n",
      "Working on square root of 4\n",
      "Working on square root of 37\n",
      "Working on square root of 99\n",
      "Working on square root of 1245\n",
      "Square root test passed.\n"
     ]
    }
   ],
   "source": [
    "def test_square_root():\n",
    "    for n in [1,2,4,37,99,1245]:\n",
    "        print(f\"Working on square root of {n}\")\n",
    "        root = square_root(n)\n",
    "        if n == 0:\n",
    "            assert root == 0, f\"Square_root({n}) is not accurate, yielding {root}.\"\n",
    "            continue\n",
    "        error = abs((root * root - n)/n) \n",
    "        assert error < 0.00001, f\"Square_root({n}) is not accurate, yielding {root}.\"\n",
    "\n",
    "try:\n",
    "    test_square_root()\n",
    "    print(\"Square root test passed.\")\n",
    "except Exception as e:\n",
    "    print(e)\n"
   ]
  }
 ],
 "metadata": {
  "language_info": {
   "name": "python"
  }
 },
 "nbformat": 4,
 "nbformat_minor": 2
}
