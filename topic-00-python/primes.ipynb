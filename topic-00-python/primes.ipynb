{
 "cells": [
  {
   "cell_type": "code",
   "execution_count": 14,
   "metadata": {},
   "outputs": [
    {
     "name": "stdout",
     "output_type": "stream",
     "text": [
      "103 * 467 = 48101\n"
     ]
    }
   ],
   "source": [
    "import math\n",
    "\n",
    "n = 48101\n",
    "if n % 2 == 0:\n",
    "    print(2, \"*\", n/2, \"=\", n)\n",
    "sqrt_n = int(math.sqrt(n))\n",
    "for i in range(3,sqrt_n,2):\n",
    "    for k in range(i,int((n+1)/2),2):\n",
    "        if i * k == n:\n",
    "            print(i, \"*\", k, \"=\", n)\n"
   ]
  }
 ],
 "metadata": {
  "language_info": {
   "name": "python"
  }
 },
 "nbformat": 4,
 "nbformat_minor": 2
}
